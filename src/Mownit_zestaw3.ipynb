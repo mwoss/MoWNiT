{
 "cells": [
  {
   "cell_type": "markdown",
   "metadata": {},
   "source": [
    "<center><b>\n",
    "MOwNiT\n",
    "<br>\n",
    "Laboratorium nr 3\n",
    "</b></center>"
   ]
  },
  {
   "cell_type": "code",
   "execution_count": 1,
   "metadata": {
    "collapsed": true
   },
   "outputs": [],
   "source": [
    "import numpy as np\n",
    "import matplotlib.pyplot as plt\n",
    "import scipy.linalg as lin"
   ]
  },
  {
   "cell_type": "code",
   "execution_count": 2,
   "metadata": {
    "collapsed": true
   },
   "outputs": [],
   "source": [
    "size = 5\n",
    "matrix = np.random.rand(size,size)\n",
    "matrix_r = np.around(matrix,decimals=4)\n",
    "vector = np.random.rand(size)\n",
    "vector_r = np.around(vector, decimals=4)"
   ]
  },
  {
   "cell_type": "code",
   "execution_count": 3,
   "metadata": {},
   "outputs": [
    {
     "data": {
      "text/plain": [
       "array([[ 0.4032,  0.4649,  0.9018,  0.9638,  0.5316],\n",
       "       [ 0.0914,  0.2021,  0.9832,  0.4556,  0.4794],\n",
       "       [ 0.6768,  0.3884,  0.7019,  0.1141,  0.8732],\n",
       "       [ 0.23  ,  0.9792,  0.4944,  0.706 ,  0.5501],\n",
       "       [ 0.9964,  0.7448,  0.3252,  0.8514,  0.4434]])"
      ]
     },
     "execution_count": 3,
     "metadata": {},
     "output_type": "execute_result"
    }
   ],
   "source": [
    "matrix_r"
   ]
  },
  {
   "cell_type": "code",
   "execution_count": 4,
   "metadata": {},
   "outputs": [
    {
     "data": {
      "text/plain": [
       "array([ 0.4444,  0.2099,  0.2109,  0.4217,  0.7091])"
      ]
     },
     "execution_count": 4,
     "metadata": {},
     "output_type": "execute_result"
    }
   ],
   "source": [
    "vector_r"
   ]
  },
  {
   "cell_type": "code",
   "execution_count": 5,
   "metadata": {
    "collapsed": true
   },
   "outputs": [],
   "source": [
    "result = np.linalg.solve(matrix_r,vector_r)\n",
    "result_r = np.around(result,decimals=4)"
   ]
  },
  {
   "cell_type": "code",
   "execution_count": 6,
   "metadata": {},
   "outputs": [
    {
     "data": {
      "text/plain": [
       "array([ 0.4997,  0.464 ,  0.3726,  0.0421, -0.6572])"
      ]
     },
     "execution_count": 6,
     "metadata": {},
     "output_type": "execute_result"
    }
   ],
   "source": [
    "result_r"
   ]
  },
  {
   "cell_type": "code",
   "execution_count": 7,
   "metadata": {
    "collapsed": true
   },
   "outputs": [],
   "source": [
    "P, L, U = lin.lu(matrix)"
   ]
  },
  {
   "cell_type": "code",
   "execution_count": 8,
   "metadata": {
    "collapsed": true
   },
   "outputs": [],
   "source": [
    "test_result = matrix_r @ result_r\n",
    "test_result_r = np.round(test_result, 4)"
   ]
  },
  {
   "cell_type": "code",
   "execution_count": 9,
   "metadata": {},
   "outputs": [
    {
     "data": {
      "text/plain": [
       "True"
      ]
     },
     "execution_count": 9,
     "metadata": {},
     "output_type": "execute_result"
    }
   ],
   "source": [
    "np.array_equal(vector_r, test_result_r)"
   ]
  },
  {
   "cell_type": "code",
   "execution_count": 50,
   "metadata": {},
   "outputs": [
    {
     "name": "stdout",
     "output_type": "stream",
     "text": [
      "Matrix decomposition time = 0.005209635949540825\n"
     ]
    }
   ],
   "source": [
    "from time import clock\n",
    "\n",
    "start = clock()\n",
    "L = np.linalg.qr(matrix)\n",
    "print(\"Matrix decomposition time = {0}\".format(clock() - start))"
   ]
  },
  {
   "cell_type": "code",
   "execution_count": 11,
   "metadata": {},
   "outputs": [
    {
     "name": "stdout",
     "output_type": "stream",
     "text": [
      "Solving time = 0.00014056614956103886\n"
     ]
    }
   ],
   "source": [
    "start = clock()\n",
    "result_t = np.linalg.solve(matrix_r,vector_r)\n",
    "print(\"Solving time = {0}\".format(clock() - start))"
   ]
  },
  {
   "cell_type": "code",
   "execution_count": 60,
   "metadata": {},
   "outputs": [
    {
     "data": {
      "image/png": "[encoded data removed]",
      "text/plain": [
       "<matplotlib.figure.Figure at 0x24f81279860>"
      ]
     },
     "metadata": {},
     "output_type": "display_data"
    }
   ],
   "source": [
    "val_dict = {}\n",
    "for i in range(100, 5001, 400):\n",
    "    matrix_temp = np.random.rand(i,i)\n",
    "    start = clock()\n",
    "    L = np.linalg.qr(matrix_temp)\n",
    "    end = clock() - start\n",
    "    val_dict.update({i: end})\n",
    "\n",
    "lists = sorted(val_dict.items())\n",
    "x, y = zip(*lists)\n",
    "\n",
    "plt.plot(x, y)\n",
    "plt.show()\n"
   ]
  },
  {
   "cell_type": "code",
   "execution_count": 58,
   "metadata": {},
   "outputs": [
    {
     "data": {
      "image/png": "[encoded data removed]",
      "text/plain": [
       "<matplotlib.figure.Figure at 0x24f83c6da90>"
      ]
     },
     "metadata": {},
     "output_type": "display_data"
    }
   ],
   "source": [
    "val_dict = {}\n",
    "for i in range(100, 5001, 400):\n",
    "    matrix_temp = np.random.rand(i,i)\n",
    "    vector_temp = np.random.rand(i)\n",
    "    start = clock()\n",
    "    result = np.linalg.solve(matrix_temp,vector_temp)\n",
    "    end = clock() - start\n",
    "    val_dict.update({i: end})\n",
    "    \n",
    "lists = sorted(val_dict.items())\n",
    "x2, y2 = zip(*lists)\n",
    "\n",
    "plt.plot(x2,y2)\n",
    "plt.show()"
   ]
  },
  {
   "cell_type": "code",
   "execution_count": 61,
   "metadata": {},
   "outputs": [
    {
     "data": {
      "image/png": "[encoded data removed]",
      "text/plain": [
       "<matplotlib.figure.Figure at 0x24f802d2d30>"
      ]
     },
     "metadata": {},
     "output_type": "display_data"
    }
   ],
   "source": [
    "coef = np.polyfit(x,y,2)\n",
    "plt.plot(x,y, 'ro')\n",
    "t = np.linspace(100,5000)\n",
    "plt.plot(t, coef[0]*t**2+coef[1]*t+coef[2], 'b')\n",
    "plt.show()"
   ]
  },
  {
   "cell_type": "code",
   "execution_count": 59,
   "metadata": {},
   "outputs": [
    {
     "data": {
      "image/png": "[encoded data removed]",
      "text/plain": [
       "<matplotlib.figure.Figure at 0x24f802d91d0>"
      ]
     },
     "metadata": {},
     "output_type": "display_data"
    }
   ],
   "source": [
    "coef = np.polyfit(x2,y2,2)\n",
    "plt.plot(x2,y2, 'ro')\n",
    "t = np.linspace(100,5000)\n",
    "plt.plot(t, coef[0]*t**2+coef[1]*t+coef[2], 'b')\n",
    "plt.show()"
   ]
  },
  {
   "cell_type": "code",
   "execution_count": 53,
   "metadata": {},
   "outputs": [
    {
     "data": {
      "text/plain": [
       "(array([[-0.3116026 , -0.14343971, -0.44885422,  0.57726954, -0.58959192],\n",
       "        [-0.0706291 , -0.14897944, -0.75011324, -0.00430857,  0.64041255],\n",
       "        [-0.52296482,  0.23109569, -0.24770634, -0.72276762, -0.29891658],\n",
       "        [-0.17770004, -0.94148326,  0.17920139, -0.22137381, -0.03020695],\n",
       "        [-0.76996484,  0.13203872,  0.37734395,  0.30877487,  0.38985838]]),\n",
       " array([[-1.29408079, -1.1097828 , -1.05574568, -1.17323523, -1.09531843],\n",
       "        [ 0.        , -0.83054281, -0.53616667, -0.73206043, -0.40520895],\n",
       "        [ 0.        ,  0.        , -1.10484011, -0.35482687, -0.54866236],\n",
       "        [ 0.        ,  0.        ,  0.        ,  0.57856685, -0.31119961],\n",
       "        [ 0.        ,  0.        ,  0.        ,  0.        , -0.11121978]]))"
      ]
     },
     "execution_count": 53,
     "metadata": {},
     "output_type": "execute_result"
    }
   ],
   "source": [
    "L"
   ]
  },
  {
   "cell_type": "code",
   "execution_count": null,
   "metadata": {
    "collapsed": true
   },
   "outputs": [],
   "source": []
  }
 ],
 "metadata": {
  "kernelspec": {
   "display_name": "Python 3",
   "language": "python",
   "name": "python3"
  },
  "language_info": {
   "codemirror_mode": {
    "name": "ipython",
    "version": 3
   },
   "file_extension": ".py",
   "mimetype": "text/x-python",
   "name": "python",
   "nbconvert_exporter": "python",
   "pygments_lexer": "ipython3",
   "version": "3.6.1"
  }
 },
 "nbformat": 4,
 "nbformat_minor": 2
}
